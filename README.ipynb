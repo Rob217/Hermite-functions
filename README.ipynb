{
 "cells": [
  {
   "cell_type": "markdown",
   "metadata": {},
   "source": [
    "# Hermite function calculations\n",
    "\n",
    "This Python package provides functions for calculating the [Hermite functions](https://en.wikipedia.org/wiki/Hermite_polynomials#Hermite_functions):\n",
    "$$\n",
    "\\psi_n(x) = \\frac{1}{\\sqrt{2^n n!}} \\frac{1}{\\pi^{1/4}} \\text{e}^{-x^2/2} H_n(x)\n",
    "$$\n",
    "where $H_n(x)$ is the $n$th Hermite polynomial (in the physicist form) at position $x$.\n",
    "\n",
    "The wavefunctions of the [quantum harmonic oscillator](https://en.wikipedia.org/wiki/Quantum_harmonic_oscillator) are related to the Hermite functions by\n",
    "$$\n",
    "\\psi_n^{\\mathrm{QHO}}(x) = \\left(\\frac{1}{2 x_{\\mathrm{ZP}}^2}\\right)^{-1/4}  \\psi_n\\left(\\frac{x}{x_{\\mathrm{ZP}} \\sqrt{2}}\\right)\n",
    "$$\n",
    "\n",
    "It might be tempting to calculate this directly, using [```eval_hermite```](https://docs.scipy.org/doc/scipy/reference/generated/scipy.special.eval_hermite.html) and [```factorial```](https://docs.scipy.org/doc/scipy/reference/generated/scipy.special.factorial.html?highlight=factorial#scipy.special.factorial) from scipy.special\n",
    "\n",
    "They are related by a recurrence relation:\n",
    "$$\n",
    "x \\psi_n(x) = \\sqrt{\\frac{n}{2}} \\psi_{n-1}(x) + \\sqrt{\\frac{n+1}{2}} \\psi_{n+1}(x).\n",
    "$$\n",
    "Rearranging gives:\n",
    "$$\n",
    "\\sqrt{\\frac{n+1}{2}} \\psi_{n+1}(x) = x \\psi_n(x) - \\sqrt{\\frac{n}{2}} \\psi_{n-1}(x) ,\n",
    "$$\n",
    "\n",
    "$$\n",
    "\\psi_m(x) = \\sqrt{\\frac{2}{m}} x \\psi_{m-1}(x) - \\sqrt{\\frac{m-1}{m}} \\psi_{m-2}(x).\n",
    "$$"
   ]
  },
  {
   "cell_type": "markdown",
   "metadata": {},
   "source": [
    "Here is some maths:\n",
    "$$\n",
    "\\psi_n(x) = \\frac{1}{\\sqrt{2^n n!}} \\frac{1}{\\pi^{1/4}} \\text{e}^{-x^2/2} H_n(x)\n",
    "$$"
   ]
  },
  {
   "cell_type": "code",
   "execution_count": null,
   "metadata": {},
   "outputs": [],
   "source": []
  }
 ],
 "metadata": {
  "kernelspec": {
   "display_name": "Python 3",
   "language": "python",
   "name": "python3"
  },
  "language_info": {
   "codemirror_mode": {
    "name": "ipython",
    "version": 3
   },
   "file_extension": ".py",
   "mimetype": "text/x-python",
   "name": "python",
   "nbconvert_exporter": "python",
   "pygments_lexer": "ipython3",
   "version": "3.8.3"
  }
 },
 "nbformat": 4,
 "nbformat_minor": 4
}
