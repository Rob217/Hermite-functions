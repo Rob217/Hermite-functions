{
 "cells": [
  {
   "cell_type": "code",
   "execution_count": 7,
   "metadata": {},
   "outputs": [],
   "source": [
    "import numpy as np\n",
    "from pprint import pprint\n",
    "import sys\n",
    "import os\n",
    "\n",
    "try:\n",
    "    from Hermite_functions import *\n",
    "except:\n",
    "    sys.path.append('..')\n",
    "    from Hermite_functions import *\n",
    "\n",
    "import time\n",
    "get_time = time.perf_counter"
   ]
  },
  {
   "cell_type": "code",
   "execution_count": 8,
   "metadata": {},
   "outputs": [
    {
     "name": "stdout",
     "output_type": "stream",
     "text": [
      "Functions correctly handle n value errors\n"
     ]
    }
   ],
   "source": [
    "# test value and type of n\n",
    "n_test = [-1, 1.0, np.array([1, 2])]\n",
    "for func in (Hermite_function, Hermite_functions, Hermite_function_analytic, Hermite_function_direct):\n",
    "    for n in n_test:\n",
    "        try: \n",
    "            func(n, 0)\n",
    "            print('Does not handle n = {} correctly'.format(n))\n",
    "            break\n",
    "        except ValueError:\n",
    "            pass\n",
    "        except TypeError:\n",
    "            pass\n",
    "print('Functions correctly handle n value errors') "
   ]
  },
  {
   "cell_type": "code",
   "execution_count": 9,
   "metadata": {},
   "outputs": [
    {
     "name": "stdout",
     "output_type": "stream",
     "text": [
      "Functions can cope with different types of x\n"
     ]
    }
   ],
   "source": [
    "# check that they all run\n",
    "x_test = [1.0, np.linspace(-2.0, 2.0, 10)]\n",
    "n_test = [2]\n",
    "\n",
    "for x in x_test:\n",
    "    for n in n_test:\n",
    "        for func in (Hermite_function, Hermite_functions, Hermite_function_analytic, Hermite_function_direct):\n",
    "            func(n, x)\n",
    "            \n",
    "print('Functions can cope with different types of x')"
   ]
  },
  {
   "cell_type": "code",
   "execution_count": 10,
   "metadata": {},
   "outputs": [
    {
     "name": "stdout",
     "output_type": "stream",
     "text": [
      "\n",
      "Check the functions agree for small n:\n",
      "0.0 0.0 0.0\n",
      "0.0 0.0 5.551115123125783e-17\n",
      "0.0 1.1102230246251565e-16 1.1102230246251565e-16\n",
      "0.0 1.1102230246251565e-16 -2.220446049250313e-16\n",
      "0.0 2.220446049250313e-16 -1.6653345369377348e-16\n",
      "0.0 1.5612511283791264e-16 -7.28583859910259e-17\n"
     ]
    }
   ],
   "source": [
    "# check that they agree for small n\n",
    "print('\\nCheck the functions agree for small n:')\n",
    "x_test = 2.0\n",
    "n_test = np.arange(0, 6)\n",
    "psi_all_n = Hermite_functions(n_test[-1], x_test)\n",
    "for n in n_test:\n",
    "    psi_n = Hermite_function(n, x_test)\n",
    "    psi_n_analytic = Hermite_function_analytic(n, x_test)\n",
    "    psi_n_direct = Hermite_function_direct(n, x_test)\n",
    "    print(psi_n - psi_all_n[n], psi_n - psi_n_analytic, psi_n - psi_n_direct)"
   ]
  },
  {
   "cell_type": "code",
   "execution_count": 11,
   "metadata": {},
   "outputs": [
    {
     "name": "stdout",
     "output_type": "stream",
     "text": [
      "\n",
      "Check speed and accuracy for itermediate n:\n",
      "n = 100\n",
      "Hermite_functions: 0.00025160000041068997\n",
      "Hermite_function: 0.0002158999996026978\n",
      "Hermite_function_direct: 5.1699999858101364e-05\n",
      "Accuracy:  0.0 -5.551115123125783e-17\n",
      "n = 200\n",
      "Hermite_functions: 0.0004439999993337551\n",
      "Hermite_function: 0.00041590000000724103\n",
      "Hermite_function_direct: 2.1599999854515772e-05\n",
      "Accuracy:  0.0 -0.1169798778417237\n",
      "n = 300\n",
      "Hermite_functions: 0.0006737000003340654\n",
      "Hermite_function: 0.0005952999999863096\n",
      "Hermite_function_direct: 0.00072589999945194\n",
      "Accuracy:  0.0 nan\n"
     ]
    },
    {
     "name": "stderr",
     "output_type": "stream",
     "text": [
      "..\\Hermite_functions\\Hermite_function_direct.py:28: RuntimeWarning: invalid value encountered in double_scalars\n",
      "  return 1 / np.sqrt(2**n * factorial(n)) * np.pi**(-1/4) * np.exp(-x**2/2) * eval_hermite(n, x)\n"
     ]
    }
   ],
   "source": [
    "# check speed and accuracy for intermediate n\n",
    "print('\\nCheck speed and accuracy for itermediate n:')\n",
    "for n in [100, 200, 300]:\n",
    "    print('n = {}'.format(n))\n",
    "    t0 = get_time()\n",
    "    psi_all_n = Hermite_functions(n, x_test)\n",
    "    t1 = get_time()\n",
    "    psi_n = Hermite_function(n, x_test)\n",
    "    t2 = get_time()\n",
    "    psi_n_direct = Hermite_function_direct(n, x_test)\n",
    "    t3 = get_time()\n",
    "    print('Hermite_functions: {}'.format(t1-t0))\n",
    "    print('Hermite_function: {}'.format(t2-t1))\n",
    "    print('Hermite_function_direct: {}'.format(t3-t2))\n",
    "    print('Accuracy: ', psi_all_n[n] - psi_n, psi_all_n[n] - psi_n_direct)"
   ]
  },
  {
   "cell_type": "code",
   "execution_count": 12,
   "metadata": {},
   "outputs": [
    {
     "name": "stdout",
     "output_type": "stream",
     "text": [
      "\n",
      "Check speed and accuracy for large n:\n",
      "n = 10000\n",
      "Hermite_functions: 0.1014605999998821\n",
      "Hermite_function: 0.07684470000003785\n",
      "Accuracy:  0.0\n"
     ]
    }
   ],
   "source": [
    "# check speed and accuracy for large n\n",
    "print('\\nCheck speed and accuracy for large n:')\n",
    "x = np.linspace(0, 10, 1000)\n",
    "n = 10000\n",
    "print('n = {}'.format(n))\n",
    "t0 = get_time()\n",
    "psi_all_n = Hermite_functions(n, x)\n",
    "t1 = get_time()\n",
    "psi_n = Hermite_function(n, x)\n",
    "t2 = get_time()\n",
    "\n",
    "print('Hermite_functions: {}'.format(t1-t0))\n",
    "print('Hermite_function: {}'.format(t2-t1))\n",
    "print('Accuracy: ', np.max(np.abs(psi_all_n[n] - psi_n)))"
   ]
  },
  {
   "cell_type": "code",
   "execution_count": null,
   "metadata": {},
   "outputs": [],
   "source": []
  }
 ],
 "metadata": {
  "kernelspec": {
   "display_name": "Python 3",
   "language": "python",
   "name": "python3"
  },
  "language_info": {
   "codemirror_mode": {
    "name": "ipython",
    "version": 3
   },
   "file_extension": ".py",
   "mimetype": "text/x-python",
   "name": "python",
   "nbconvert_exporter": "python",
   "pygments_lexer": "ipython3",
   "version": "3.8.3"
  }
 },
 "nbformat": 4,
 "nbformat_minor": 4
}
